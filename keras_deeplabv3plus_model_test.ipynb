{
 "cells": [
  {
   "cell_type": "code",
   "execution_count": 1,
   "metadata": {},
   "outputs": [],
   "source": [
    "%load_ext autoreload\n",
    "%autoreload 2\n",
    "%matplotlib inline"
   ]
  },
  {
   "cell_type": "code",
   "execution_count": 2,
   "metadata": {},
   "outputs": [
    {
     "name": "stderr",
     "output_type": "stream",
     "text": [
      "Using TensorFlow backend.\n"
     ]
    }
   ],
   "source": [
    "import tensorflow as tf\n",
    "from keras.layers import Input\n",
    "from PIL import Image\n",
    "from matplotlib import pyplot as plt\n",
    "import cv2 \n",
    "import numpy as np\n",
    "from model import Deeplabv3\n",
    "import time"
   ]
  },
  {
   "cell_type": "code",
   "execution_count": 3,
   "metadata": {},
   "outputs": [
    {
     "name": "stderr",
     "output_type": "stream",
     "text": [
      "WARNING: Logging before flag parsing goes to stderr.\n",
      "W0917 10:36:57.140460 4526147008 deprecation.py:506] From /Users/ngao024/anaconda3/lib/python3.7/site-packages/tensorflow/python/ops/init_ops.py:1251: calling VarianceScaling.__init__ (from tensorflow.python.ops.init_ops) with dtype is deprecated and will be removed in a future version.\n",
      "Instructions for updating:\n",
      "Call initializer instance with the dtype argument instead of passing it to the constructor\n"
     ]
    }
   ],
   "source": [
    "# load model\n",
    "deeplab_model = Deeplabv3(weights='pascal_voc', backbone='xception',input_shape=(512,512,3), OS=8)"
   ]
  },
  {
   "cell_type": "code",
   "execution_count": null,
   "metadata": {},
   "outputs": [],
   "source": [
    "trained_image_width=512 \n",
    "mean_subtraction_value=127.5\n",
    "img = np.array(Image.open('test_images/IMG_9181.jpg'))\n",
    "\n",
    "w, h, _ = img.shape\n",
    "ratio = float(trained_image_width) / np.max([w, h])\n",
    "resized_img = cv2.resize(img, (int(ratio*h), int(ratio*w)))\n",
    "\n",
    "# apply normalization for trained dataset images\n",
    "resized_img = (resized_img / mean_subtraction_value) - 1.\n",
    "\n",
    "pad_x = int(trained_image_width - resized_img.shape[0])\n",
    "pad_y = int(trained_image_width - resized_img.shape[1])\n",
    "\n",
    "resized_img = np.pad(resized_img, ((0, pad_x), (0, pad_y), (0, 0)), mode='constant')\n",
    "\n",
    "start = time.time()\n",
    "res = new_deeplab_model.predict(np.expand_dims(resized_img, 0))\n",
    "labels = np.argmax(res.squeeze(),-1)\n",
    "print(time.time() - start, ' seconds elapse..')\n",
    "\n",
    "if pad_x > 0:\n",
    "    labels = labels[:-pad_x]\n",
    "if pad_y > 0:\n",
    "    labels = labels[:, :-pad_y]\n",
    "labels = np.array(Image.fromarray(labels.astype('uint8')).resize((h, w)))\n",
    "\n",
    "plt.figure(figsize=(8,6))\n",
    "plt.imshow(img)\n",
    "plt.imshow(labels, alpha=0.4)\n",
    "plt.show()"
   ]
  }
 ],
 "metadata": {
  "kernelspec": {
   "display_name": "Python 3",
   "language": "python",
   "name": "python3"
  },
  "language_info": {
   "codemirror_mode": {
    "name": "ipython",
    "version": 3
   },
   "file_extension": ".py",
   "mimetype": "text/x-python",
   "name": "python",
   "nbconvert_exporter": "python",
   "pygments_lexer": "ipython3",
   "version": "3.7.3"
  }
 },
 "nbformat": 4,
 "nbformat_minor": 2
}
